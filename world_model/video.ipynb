{
 "cells": [
  {
   "cell_type": "code",
   "execution_count": 1,
   "id": "63deedd8",
   "metadata": {},
   "outputs": [],
   "source": [
    "# !pip install opencv-python"
   ]
  },
  {
   "cell_type": "code",
   "execution_count": 2,
   "id": "804c4eba",
   "metadata": {},
   "outputs": [],
   "source": [
    "import numpy as np\n",
    "from matplotlib import pyplot as plt\n",
    "import cv2\n",
    "import os"
   ]
  },
  {
   "cell_type": "code",
   "execution_count": 14,
   "id": "d4382d5b",
   "metadata": {},
   "outputs": [],
   "source": [
    "servo = np.load('data/servo.npy')\n",
    "depth = np.load('data/depth.npy')"
   ]
  },
  {
   "cell_type": "code",
   "execution_count": 15,
   "id": "0b418aeb",
   "metadata": {
    "scrolled": true
   },
   "outputs": [],
   "source": [
    "# create photos\n",
    "filenames = []\n",
    "for i in range(len(depth)):\n",
    "    filename = 'data/session_'+str(i)+'.png'\n",
    "    plt.imsave(filename, depth[i], cmap='gray')\n",
    "    filenames.append(filename)"
   ]
  },
  {
   "cell_type": "code",
   "execution_count": 16,
   "id": "3e952c41",
   "metadata": {},
   "outputs": [],
   "source": [
    "# collect photos into video\n",
    "img_array = []\n",
    "font = cv2.FONT_HERSHEY_SIMPLEX\n",
    "i = 0\n",
    "for filename in filenames:\n",
    "    img = cv2.imread(filename)\n",
    "    # add text\n",
    "    cv2.putText(img, 'servo '+str(servo[i]), (10,500), font, 2, (255,255,255), 2, cv2.LINE_AA)\n",
    "    height, width, layers = img.shape\n",
    "    size = (width,height)\n",
    "    img_array.append(img)\n",
    "    i += 1\n",
    "\n",
    "out = cv2.VideoWriter('data/session.mp4',cv2.VideoWriter_fourcc(*'DIVX'), 15, size)\n",
    "for i in range(len(img_array)):\n",
    "    out.write(img_array[i])\n",
    "out.release()"
   ]
  },
  {
   "cell_type": "code",
   "execution_count": 17,
   "id": "17dab64f",
   "metadata": {},
   "outputs": [],
   "source": [
    "# remove images\n",
    "for filename in filenames:\n",
    "    os.remove(filename)"
   ]
  }
 ],
 "metadata": {
  "kernelspec": {
   "display_name": "Python 3",
   "language": "python",
   "name": "python3"
  },
  "language_info": {
   "codemirror_mode": {
    "name": "ipython",
    "version": 3
   },
   "file_extension": ".py",
   "mimetype": "text/x-python",
   "name": "python",
   "nbconvert_exporter": "python",
   "pygments_lexer": "ipython3",
   "version": "3.9.2"
  }
 },
 "nbformat": 4,
 "nbformat_minor": 5
}
