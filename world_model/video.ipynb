{
 "cells": [
  {
   "cell_type": "code",
   "execution_count": 1,
   "id": "e7837a4f",
   "metadata": {},
   "outputs": [],
   "source": [
    "# !pip install opencv-python"
   ]
  },
  {
   "cell_type": "code",
   "execution_count": 2,
   "id": "ecf5c6b3",
   "metadata": {},
   "outputs": [],
   "source": [
    "import numpy as np\n",
    "from matplotlib import pyplot as plt\n",
    "import cv2\n",
    "import os"
   ]
  },
  {
   "cell_type": "code",
   "execution_count": 10,
   "id": "f069f68f",
   "metadata": {},
   "outputs": [],
   "source": [
    "servo = np.load('data/servo.npy')\n",
    "depth = np.load('data/depth.npy')"
   ]
  },
  {
   "cell_type": "code",
   "execution_count": 11,
   "id": "c7045fae",
   "metadata": {
    "scrolled": true
   },
   "outputs": [],
   "source": [
    "# create photos\n",
    "filenames = []\n",
    "for i in range(len(depth)):\n",
    "    filename = 'data/session_'+str(i)+'.png'\n",
    "    plt.imsave(filename, depth[i], cmap='gray')\n",
    "    filenames.append(filename)"
   ]
  },
  {
   "cell_type": "code",
   "execution_count": 12,
   "id": "12287be9",
   "metadata": {},
   "outputs": [],
   "source": [
    "# collect photos into video\n",
    "img_array = []\n",
    "font = cv2.FONT_HERSHEY_SIMPLEX\n",
    "i = 0\n",
    "for filename in filenames:\n",
    "    img = cv2.imread(filename)\n",
    "    # add text\n",
    "    cv2.putText(img, 'servo '+str(servo[i]), (10,500), font, 2, (255,255,255), 2, cv2.LINE_AA)\n",
    "    height, width, layers = img.shape\n",
    "    size = (width,height)\n",
    "    img_array.append(img)\n",
    "    i += 1\n",
    "\n",
    "out = cv2.VideoWriter('data/session.mp4',cv2.VideoWriter_fourcc(*'DIVX'), 15, size)\n",
    "for i in range(len(img_array)):\n",
    "    out.write(img_array[i])\n",
    "out.release()"
   ]
  },
  {
   "cell_type": "code",
   "execution_count": 13,
   "id": "5cd1bff2",
   "metadata": {},
   "outputs": [],
   "source": [
    "# remove images\n",
    "for filename in filenames:\n",
    "    os.remove(filename)"
   ]
  }
 ],
 "metadata": {
  "kernelspec": {
   "display_name": "Python 3",
   "language": "python",
   "name": "python3"
  },
  "language_info": {
   "codemirror_mode": {
    "name": "ipython",
    "version": 3
   },
   "file_extension": ".py",
   "mimetype": "text/x-python",
   "name": "python",
   "nbconvert_exporter": "python",
   "pygments_lexer": "ipython3",
   "version": "3.9.2"
  }
 },
 "nbformat": 4,
 "nbformat_minor": 5
}
