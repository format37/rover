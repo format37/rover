{
 "cells": [
  {
   "cell_type": "code",
   "execution_count": 25,
   "id": "6d5ac62d",
   "metadata": {},
   "outputs": [],
   "source": [
    "# !pip install opencv-python"
   ]
  },
  {
   "cell_type": "code",
   "execution_count": 26,
   "id": "b663dc29",
   "metadata": {},
   "outputs": [],
   "source": [
    "import numpy as np\n",
    "from matplotlib import pyplot as plt\n",
    "import cv2\n",
    "import os"
   ]
  },
  {
   "cell_type": "code",
   "execution_count": 27,
   "id": "ba2facdc",
   "metadata": {},
   "outputs": [],
   "source": [
    "servo = np.load('data/servo.npy')\n",
    "depth = np.load('data/depth.npy')"
   ]
  },
  {
   "cell_type": "code",
   "execution_count": 28,
   "id": "2e10e9d3",
   "metadata": {
    "scrolled": true
   },
   "outputs": [],
   "source": [
    "# create photos\n",
    "filenames = []\n",
    "for i in range(len(depth)):\n",
    "    filename = 'data/session_'+str(i)+'.png'\n",
    "    plt.imsave(filename, depth[i], cmap='gray')\n",
    "    filenames.append(filename)"
   ]
  },
  {
   "cell_type": "code",
   "execution_count": 29,
   "id": "25462a1b",
   "metadata": {},
   "outputs": [],
   "source": [
    "# collect photos into video\n",
    "img_array = []\n",
    "font = cv2.FONT_HERSHEY_SIMPLEX\n",
    "i = 0\n",
    "for filename in filenames:\n",
    "    img = cv2.imread(filename)\n",
    "    # add text\n",
    "    cv2.putText(img, 'servo '+str(servo[i]), (10,500), font, 2, (255,255,255), 2, cv2.LINE_AA)\n",
    "    height, width, layers = img.shape\n",
    "    size = (width,height)\n",
    "    img_array.append(img)\n",
    "    i += 1\n",
    "\n",
    "out = cv2.VideoWriter('data/session.mp4',cv2.VideoWriter_fourcc(*'DIVX'), 15, size)\n",
    "for i in range(len(img_array)):\n",
    "    out.write(img_array[i])\n",
    "out.release()"
   ]
  },
  {
   "cell_type": "code",
   "execution_count": 30,
   "id": "a865d2ee",
   "metadata": {},
   "outputs": [],
   "source": [
    "# remove images\n",
    "for filename in filenames:\n",
    "    os.remove(filename)"
   ]
  }
 ],
 "metadata": {
  "kernelspec": {
   "display_name": "Python 3",
   "language": "python",
   "name": "python3"
  },
  "language_info": {
   "codemirror_mode": {
    "name": "ipython",
    "version": 3
   },
   "file_extension": ".py",
   "mimetype": "text/x-python",
   "name": "python",
   "nbconvert_exporter": "python",
   "pygments_lexer": "ipython3",
   "version": "3.9.2"
  }
 },
 "nbformat": 4,
 "nbformat_minor": 5
}
