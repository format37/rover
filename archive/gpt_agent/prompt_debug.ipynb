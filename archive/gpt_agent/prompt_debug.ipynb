{
 "cells": [
  {
   "cell_type": "code",
   "execution_count": 2,
   "id": "1c7678b0",
   "metadata": {},
   "outputs": [],
   "source": [
    "import json"
   ]
  },
  {
   "cell_type": "code",
   "execution_count": 3,
   "id": "a7b741d0",
   "metadata": {},
   "outputs": [],
   "source": [
    "# read prompt from json file\n",
    "with open('prompt.json', 'r') as f:\n",
    "    config = json.load(f)\n",
    "    prompt_file = config['prompt_file']\n",
    "    # stop_words = config['stop_words']\n",
    "    stop_words = ['\"']\n",
    "with open(prompt_file, 'r') as f:\n",
    "    prompt = f.read()"
   ]
  },
  {
   "cell_type": "code",
   "execution_count": 4,
   "id": "b7378c87",
   "metadata": {
    "scrolled": true
   },
   "outputs": [
    {
     "data": {
      "text/plain": [
       "'I am a small robot rover\\nMy meaning of life is to explore the world around. I try to find a new objects.\\nI live in an endless loop:\\n* I look at the world and describe the picture I see\\n* I tell my thoughts\\n* I am making a small movement\\nAnd so on, again, endlessly ..\\n\\nI am trying to avoid obstructions.\\nThe log file is strictly sequential. After each of My actions, I always see something and tell my thoughs.\\nMy available actions strictly are:\\n[turn left]\\n[turn right]\\n[move ahead]\\n[move backward]\\n[look left]\\n[look right]\\n[look ahead]\\nAny other actions are not supported.\\nHere are my latest interaction batches:\\n\\n[\\n    {\\n        \"see\": \"Everything blurred, as if in a fog.\",\\n        \"obstruction_distance\": 327,\\n        \"my_thoughs\": \"Let\\'s see what I can find out about his place.\",\\n        \"my_action\": [\"move backward\", \"look left\"]\\n    },\\n    {\\n        \"see\": \"Dark space.\",\\n        \"obstruction_distance\": 319,\\n        \"my_thoughs\": \"I hope to find something soon.\",\\n        \"my_action\": [\"look ahead\"]\\n    },\\n    {'"
      ]
     },
     "execution_count": 4,
     "metadata": {},
     "output_type": "execute_result"
    }
   ],
   "source": [
    "prompt"
   ]
  },
  {
   "cell_type": "code",
   "execution_count": 27,
   "id": "6caec0ee",
   "metadata": {},
   "outputs": [],
   "source": [
    "res = \"\"\"[{'see': 'Everything blurred, as if in a fog.', 'obstruction_distance': 327, 'my_thoughs': \"Let see what I can find out about his place.\", 'my_action': ['move left']}, {'see': 'Dark space.', 'obstruction_distance': 319, 'my_thoughs': 'I hope to find something soon.', 'my_action': ['look ahead']}, {'see': 'a cat is standing in the corner of a room', 'obstruction_distance': 336.0, 'my_thoughs': 'What an interesting creature!', 'my_action': ['move ahead']}, {'see': 'a person is standing in the doorway of a room', 'obstruction_distance': 300.0, 'my_thoughs': 'I wonder why they are here?', 'my_action': ['move left']}, {'see': 'an empty room with a green wall and a blue floor', 'obstruction_distance': 0.0, 'my_thoughs': 'This room looks interesting. I should explore it further.', 'my_action': ['look right']}, {'see': 'a green wall with a green wall and a blue wall', 'obstruction_distance': 0.0, 'my_thoughs': 'This looks like an interesting pattern. I should investigate it more.', 'my_action': ['move ahead']}, {'see': 'a green wall with a red wall and a blue wall', 'obstruction_distance': 0.0, 'my_thoughs': 'This looks like a different pattern. Interesting.', 'my_action': ['look left']}]\"\"\"\n",
    "res = res.replace(\"'\",'\"')"
   ]
  },
  {
   "cell_type": "code",
   "execution_count": 28,
   "id": "9d80f170",
   "metadata": {},
   "outputs": [
    {
     "data": {
      "text/plain": [
       "'[{\"see\": \"Everything blurred, as if in a fog.\", \"obstruction_distance\": 327, \"my_thoughs\": \"Let see what I can find out about his place.\", \"my_action\": [\"move left\"]}, {\"see\": \"Dark space.\", \"obstruction_distance\": 319, \"my_thoughs\": \"I hope to find something soon.\", \"my_action\": [\"look ahead\"]}, {\"see\": \"a cat is standing in the corner of a room\", \"obstruction_distance\": 336.0, \"my_thoughs\": \"What an interesting creature!\", \"my_action\": [\"move ahead\"]}, {\"see\": \"a person is standing in the doorway of a room\", \"obstruction_distance\": 300.0, \"my_thoughs\": \"I wonder why they are here?\", \"my_action\": [\"move left\"]}, {\"see\": \"an empty room with a green wall and a blue floor\", \"obstruction_distance\": 0.0, \"my_thoughs\": \"This room looks interesting. I should explore it further.\", \"my_action\": [\"look right\"]}, {\"see\": \"a green wall with a green wall and a blue wall\", \"obstruction_distance\": 0.0, \"my_thoughs\": \"This looks like an interesting pattern. I should investigate it more.\", \"my_action\": [\"move ahead\"]}, {\"see\": \"a green wall with a red wall and a blue wall\", \"obstruction_distance\": 0.0, \"my_thoughs\": \"This looks like a different pattern. Interesting.\", \"my_action\": [\"look left\"]}]'"
      ]
     },
     "execution_count": 28,
     "metadata": {},
     "output_type": "execute_result"
    }
   ],
   "source": [
    "res"
   ]
  },
  {
   "cell_type": "code",
   "execution_count": 30,
   "id": "e2906fbc",
   "metadata": {},
   "outputs": [
    {
     "data": {
      "text/plain": [
       "[{'see': 'Everything blurred, as if in a fog.',\n",
       "  'obstruction_distance': 327,\n",
       "  'my_thoughs': 'Let see what I can find out about his place.',\n",
       "  'my_action': ['move left']},\n",
       " {'see': 'Dark space.',\n",
       "  'obstruction_distance': 319,\n",
       "  'my_thoughs': 'I hope to find something soon.',\n",
       "  'my_action': ['look ahead']},\n",
       " {'see': 'a cat is standing in the corner of a room',\n",
       "  'obstruction_distance': 336.0,\n",
       "  'my_thoughs': 'What an interesting creature!',\n",
       "  'my_action': ['move ahead']},\n",
       " {'see': 'a person is standing in the doorway of a room',\n",
       "  'obstruction_distance': 300.0,\n",
       "  'my_thoughs': 'I wonder why they are here?',\n",
       "  'my_action': ['move left']},\n",
       " {'see': 'an empty room with a green wall and a blue floor',\n",
       "  'obstruction_distance': 0.0,\n",
       "  'my_thoughs': 'This room looks interesting. I should explore it further.',\n",
       "  'my_action': ['look right']},\n",
       " {'see': 'a green wall with a green wall and a blue wall',\n",
       "  'obstruction_distance': 0.0,\n",
       "  'my_thoughs': 'This looks like an interesting pattern. I should investigate it more.',\n",
       "  'my_action': ['move ahead']},\n",
       " {'see': 'a green wall with a red wall and a blue wall',\n",
       "  'obstruction_distance': 0.0,\n",
       "  'my_thoughs': 'This looks like a different pattern. Interesting.',\n",
       "  'my_action': ['look left']}]"
      ]
     },
     "execution_count": 30,
     "metadata": {},
     "output_type": "execute_result"
    }
   ],
   "source": [
    "life_log_json = json.loads(res)\n",
    "life_log_json"
   ]
  },
  {
   "cell_type": "code",
   "execution_count": 32,
   "id": "6ebf2541",
   "metadata": {},
   "outputs": [
    {
     "data": {
      "text/plain": [
       "['look left']"
      ]
     },
     "execution_count": 32,
     "metadata": {},
     "output_type": "execute_result"
    }
   ],
   "source": [
    "life_log_json[-1]['my_action']"
   ]
  }
 ],
 "metadata": {
  "kernelspec": {
   "display_name": "Python (ml04)",
   "language": "python",
   "name": "ml04"
  },
  "language_info": {
   "codemirror_mode": {
    "name": "ipython",
    "version": 3
   },
   "file_extension": ".py",
   "mimetype": "text/x-python",
   "name": "python",
   "nbconvert_exporter": "python",
   "pygments_lexer": "ipython3",
   "version": "3.7.12"
  }
 },
 "nbformat": 4,
 "nbformat_minor": 5
}
